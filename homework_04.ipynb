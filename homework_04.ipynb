{
 "cells": [
  {
   "cell_type": "markdown",
   "id": "197f4632",
   "metadata": {},
   "source": [
    "Домашнее задание к лекции \"Функции\"\n",
    "Вам нужно помочь секретарю автоматизировать работу. Для этого нужно написать программу, которая будет на основе хранимых данных исполнять пользовательские команды.\n",
    "\n",
    "Исходные данные имеют следующую структуру:\n",
    "\n",
    "перечень всех документов\n",
    "documents = [\n",
    "    {'type': 'passport', 'number': '2207 876234', 'name': 'Василий Гупкин'},\n",
    "    {'type': 'invoice', 'number': '11-2', 'name': 'Геннадий Покемонов'},\n",
    "    {'type': 'insurance', 'number': '10006', 'name': 'Аристарх Павлов'}\n",
    "]\n",
    "перечень полок, на которых хранятся документы (если документ есть в documents, то он обязательно должен быть и в directories)\n",
    "directories = {\n",
    "    '1': ['2207 876234', '11-2'],\n",
    "    '2': ['10006'],\n",
    "    '3': []\n",
    "}\n",
    "Общие требования к программе:\n",
    "\n",
    "код должен быть грамотно декомпозирован (каждая функция отвечает за свою конкретную задачу, дублирующийся функционал переиспользуется, а его код не повторяется);\n",
    "в коде отсутствуют глобальные переменные (за исключением documents и directories);\n",
    "пользовательский ввод обрабатывается в цикле while до тех пор, пока пользователь явно не завершит программу (вводом команды \"q\").\n"
   ]
  },
  {
   "cell_type": "markdown",
   "id": "9a744bb5",
   "metadata": {},
   "source": [
    "Задание 1\n",
    "Пункт 1. Пользователь по команде \"p\" может узнать владельца документа по его номеру\n",
    "Примеры работы:\n",
    "\n",
    "Введите команду:\n",
    "p\n",
    "\n",
    "Введите номер документа:\n",
    "10006\n",
    "Результат:\n",
    "Владелец документа: Аристарх Павлов\n",
    "\n",
    "Введите команду:\n",
    "p\n",
    "\n",
    "Введите номер документа:\n",
    "12345\n",
    "Результат:\n",
    "Документ не найден в базе\n"
   ]
  },
  {
   "cell_type": "code",
   "execution_count": 19,
   "id": "6409154b",
   "metadata": {},
   "outputs": [
    {
     "data": {
      "text/plain": [
       "'Владелец документа Аристарх Павлов'"
      ]
     },
     "execution_count": 19,
     "metadata": {},
     "output_type": "execute_result"
    }
   ],
   "source": [
    "documents = [\n",
    "    {'type': 'passport', 'number': '2207 876234', 'name': 'Василий Гупкин'},\n",
    "    {'type': 'invoice', 'number': '11-2', 'name': 'Геннадий Покемонов'},\n",
    "    {'type': 'insurance', 'number': '10006', 'name': 'Аристарх Павлов'}\n",
    "]\n",
    "def search_number(num):\n",
    "    name = \"\"\n",
    "    for doc in documents:\n",
    "        if doc['number'] == num:\n",
    "            name = \"Владелец документа \" + doc['name']\n",
    "        if name == \"\":\n",
    "            name = \"Документ не найден в базе\"\n",
    "        \n",
    "    return name\n",
    "search_number('10006')\n",
    "    \n",
    "    "
   ]
  },
  {
   "cell_type": "markdown",
   "id": "7749a0ce",
   "metadata": {},
   "source": [
    "Пункт 2. Пользователь по команде \"s\" может по номеру документа узнать на какой полке он хранится\n",
    "Примеры работы:\n",
    "\n",
    "Введите команду:\n",
    "s\n",
    "\n",
    "Введите номер документа:\n",
    "10006\n",
    "Результат:\n",
    "Документ хранится на полке: 2\n",
    "\n",
    "Введите команду:\n",
    "s\n",
    "\n",
    "Введите номер документа:\n",
    "12345\n",
    "Результат:\n",
    "Документ не найден в базе"
   ]
  },
  {
   "cell_type": "code",
   "execution_count": 24,
   "id": "a9451a54",
   "metadata": {},
   "outputs": [
    {
     "data": {
      "text/plain": [
       "'Документ хранится на полке: 1'"
      ]
     },
     "execution_count": 24,
     "metadata": {},
     "output_type": "execute_result"
    }
   ],
   "source": [
    "directories = {\n",
    "    '1': ['2207 876234', '11-2'],\n",
    "    '2': ['10006'],\n",
    "    '3': []\n",
    "}\n",
    "def doc_dir(number_doc):\n",
    "    \"\"\"\n",
    "    Функция возвращает по номеру документа данные о месте хранения\n",
    "    \"\"\"\n",
    "    shelf = ''\n",
    "    for item, values in directories.items():\n",
    "        if number_doc in values:\n",
    "            shelf = 'Документ хранится на полке: ' + item\n",
    "    if shelf == '':\n",
    "        shelf='Документ не найден в базе'\n",
    "    return shelf\n",
    "doc_dir('11-2')"
   ]
  },
  {
   "cell_type": "markdown",
   "id": "824e0f01",
   "metadata": {},
   "source": [
    "Пункт 3. Пользователь по команде \"l\" может увидеть полную информацию по всем документам\n",
    "Пример работы:\n",
    "\n",
    "Введите команду:\n",
    "l\n",
    "Результат:\n",
    "\n",
    "№: 2207 876234, тип: passport, владелец: Василий Гупкин, полка хранения: 1\n",
    "№: 11-2, тип: invoice, владелец: Геннадий Покемонов, полка хранения: 1\n",
    "№: 10006, тип: insurance, владелец: Аристарх Павлов, полка хранения: 2"
   ]
  },
  {
   "cell_type": "code",
   "execution_count": 25,
   "id": "305b1966",
   "metadata": {},
   "outputs": [
    {
     "name": "stdout",
     "output_type": "stream",
     "text": [
      "№ 2207 876234, тип: passport, владелец: Василий Гупкин, полка хранения: 1\n",
      "№ 11-2, тип: invoice, владелец: Геннадий Покемонов, полка хранения: 1\n",
      "№ 10006, тип: insurance, владелец: Аристарх Павлов, полка хранения: 2\n"
     ]
    }
   ],
   "source": [
    "def list_doc():\n",
    "    \"\"\"\n",
    "    Функция возвращает список документов на полках\n",
    "    \"\"\"\n",
    "    for i in documents:\n",
    "        for item, values in directories.items():\n",
    "            if i['number'] in values:\n",
    "                print('№ ' + i['number'] + ', тип: ' + i['type'] + ', владелец: ' + i['name'] + ', полка хранения: ' + item)\n",
    "list_doc()"
   ]
  },
  {
   "cell_type": "markdown",
   "id": "9026b2f6",
   "metadata": {},
   "source": [
    "Пункт 4. Пользователь по команде \"ads\" может добавить новую полку\n",
    "Примеры работы:\n",
    "\n",
    "Введите команду:\n",
    "ads\n",
    "\n",
    "Введите номер полки:\n",
    "10\n",
    "Результат:\n",
    "Полка добавлена. Текущий перечень полок: 1, 2, 3, 10.\n",
    "\n",
    "Введите команду:\n",
    "ads\n",
    "\n",
    "Введите номер полки:\n",
    "1\n",
    "Результат:\n",
    "Такая полка уже существует. Текущий перечень полок: 1, 2, 3.\n"
   ]
  },
  {
   "cell_type": "code",
   "execution_count": 31,
   "id": "8c2a625e",
   "metadata": {},
   "outputs": [
    {
     "name": "stdout",
     "output_type": "stream",
     "text": [
      "Такая полка уже существует. Текущий перечень полок: 1,2,3,10.\n"
     ]
    }
   ],
   "source": [
    "def list_shelf():\n",
    "    \"\"\"\n",
    "    Функция возвращает список полок\n",
    "    \"\"\"    \n",
    "    listshelf = ''\n",
    "    for item, values in directories.items():\n",
    "        listshelf = listshelf + item + ',' \n",
    "    listshelf = listshelf[:-1] + '.'\n",
    "    return listshelf \n",
    "\n",
    "def add_shelf(number_shelf):\n",
    "    \"\"\"\n",
    "    Функция добавляет полку, если такой ещё нет\n",
    "    \"\"\"    \n",
    "    count = 0\n",
    "    for item, values in directories.items():\n",
    "        if number_shelf in item:\n",
    "            count = 1\n",
    "    if count == 1:\n",
    "        print('Такая полка уже существует. Текущий перечень полок: ' + list_shelf())\n",
    "    else:\n",
    "        directories[number_shelf]=[]\n",
    "        print('Полка добавлена. Текущий перечень полок: '+ list_shelf())\n",
    "add_shelf('1')"
   ]
  },
  {
   "cell_type": "markdown",
   "id": "d3224f60",
   "metadata": {},
   "source": [
    "Пункт 5. Пользователь по команде \"ds\" может удалить существующую полку из данных (только если она пустая)\n",
    "Примеры работы:\n",
    "\n",
    "Введите команду:\n",
    "ds\n",
    "\n",
    "Введите номер полки:\n",
    "3\n",
    "Результат:\n",
    "Полка удалена. Текущий перечень полок: 1, 2.\n",
    "\n",
    "Введите команду:\n",
    "ds\n",
    "\n",
    "Введите номер полки:\n",
    "1\n",
    "Результат:\n",
    "На полке есть документа, удалите их перед удалением полки. Текущий перечень полок: 1, 2, 3.\n",
    "\n",
    "Введите команду:\n",
    "ds\n",
    "\n",
    "Введите номер полки:\n",
    "4\n",
    "Результат:\n",
    "Такой полки не существует. Текущий перечень полок: 1, 2, 3."
   ]
  },
  {
   "cell_type": "code",
   "execution_count": 34,
   "id": "0bc51e61",
   "metadata": {},
   "outputs": [],
   "source": [
    "def del_shelf(number_shelf):\n",
    "    \"\"\"\n",
    "    Функция удаляе полку, если она не пустая\n",
    "    \"\"\"\n",
    "    count = 0\n",
    "    for item, values in directories.items():\n",
    "        if number_shelf in item:\n",
    "            count = 1\n",
    "            if values != []:\n",
    "                count = 2\n",
    "    if count == 1:\n",
    "        del directories[number_shelf]\n",
    "        print('Полка удалена. Текущий перечень полок: '+ list_shelf())\n",
    "    elif count == 2:\n",
    "        print('На полке есть документа, удалите их перед удалением полки. Текущий перечень полок: ' + list_shelf())\n",
    "    else:\n",
    "        print('Такая полка не существует. Текущий перечень полок: ' + list_shelf())"
   ]
  },
  {
   "cell_type": "code",
   "execution_count": 32,
   "id": "5ae16b7b",
   "metadata": {},
   "outputs": [],
   "source": [
    "def main():\n",
    "    \"\"\"\n",
    "    Основная функция автоматизации работы секретаря\n",
    "    \"\"\"\n",
    "    a = 0\n",
    "    while a < 1:\n",
    "        command_input=input('Введите команду: \\n')\n",
    "        if command_input == 'p':\n",
    "            number_input=input('Введите номер документа: \\n')\n",
    "            print(search_number(number_input))\n",
    "        elif command_input == 's':\n",
    "            number_input=input('Введите номер документа: \\n')\n",
    "            print(doc_dir(number_input))\n",
    "        elif command_input == 'l':\n",
    "            list_doc()\n",
    "        elif command_input == 'as':\n",
    "            number_input=input('Введите номер полки: \\n')\n",
    "            add_shelf(number_input)\n",
    "        elif command_input == 'ds':\n",
    "            number_input=input('Введите номер полки: \\n')\n",
    "            del_shelf(number_input)\n",
    "        elif command_input == 'q':\n",
    "            break\n",
    "        else:\n",
    "            print('Нет такой команды')"
   ]
  },
  {
   "cell_type": "code",
   "execution_count": null,
   "id": "78c6b0d6",
   "metadata": {},
   "outputs": [
    {
     "name": "stdout",
     "output_type": "stream",
     "text": [
      "Введите команду: \n",
      "ds\n",
      "Введите номер полки: \n",
      "1\n",
      "Полка удалена. Текущий перечень полок: 2,3,10.\n"
     ]
    }
   ],
   "source": [
    "main()\n"
   ]
  },
  {
   "cell_type": "code",
   "execution_count": null,
   "id": "5eab2923",
   "metadata": {},
   "outputs": [],
   "source": []
  }
 ],
 "metadata": {
  "kernelspec": {
   "display_name": "Python 3 (ipykernel)",
   "language": "python",
   "name": "python3"
  },
  "language_info": {
   "codemirror_mode": {
    "name": "ipython",
    "version": 3
   },
   "file_extension": ".py",
   "mimetype": "text/x-python",
   "name": "python",
   "nbconvert_exporter": "python",
   "pygments_lexer": "ipython3",
   "version": "3.10.9"
  }
 },
 "nbformat": 4,
 "nbformat_minor": 5
}
