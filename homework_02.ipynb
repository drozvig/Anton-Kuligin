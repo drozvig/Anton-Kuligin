{
 "cells": [
  {
   "cell_type": "markdown",
   "id": "b53eac21",
   "metadata": {},
   "source": [
    "Домашнее задание к лекции \"Введение в типы данных и циклы. Часть 1\"\n",
    "Задание 1\n",
    "Дана переменная, в которой хранится слово из латинских букв. Напишите код, который выводит на экран:\n",
    "\n",
    "среднюю букву, если число букв в слове нечетное;\n",
    "две средних буквы, если число букв четное."
   ]
  },
  {
   "cell_type": "code",
   "execution_count": 20,
   "id": "a19477f8",
   "metadata": {},
   "outputs": [
    {
     "name": "stdout",
     "output_type": "stream",
     "text": [
      "Введите слово: test\n",
      "es\n"
     ]
    }
   ],
   "source": [
    "word = input(\"Введите слово: \")   #Я думаю что правильное решение выглядит как-то иначе,\n",
    "index_mid_letter = len(word)//2   #Но это работает значит правильное, видимо:D\n",
    "if len(word) % 2 != 0:\n",
    "    print(word[index_mid_letter])\n",
    "else:\n",
    "    print(word[(index_mid_letter - 1) : index_mid_letter + 1])"
   ]
  },
  {
   "cell_type": "markdown",
   "id": "45eca72e",
   "metadata": {},
   "source": [
    " "
   ]
  },
  {
   "cell_type": "markdown",
   "id": "f663861b",
   "metadata": {},
   "source": [
    "Задание 2\n",
    "Напишите программу, которая последовательно запрашивает у пользователя числа (по одному за раз) и после первого нуля выводит сумму всех ранее введенных чисел."
   ]
  },
  {
   "cell_type": "code",
   "execution_count": 22,
   "id": "47792452",
   "metadata": {},
   "outputs": [
    {
     "name": "stdout",
     "output_type": "stream",
     "text": [
      "Введите число: 1\n",
      "Введите число: 2\n",
      "Введите число: 3\n",
      "Введите число: 0\n",
      "Результат:  6\n"
     ]
    }
   ],
   "source": [
    "num = ''\n",
    "sum_num = 0\n",
    "while num != '0':\n",
    "    num = input(\"Введите число: \")\n",
    "    sum_num += int(num)\n",
    "print(\"Результат: \",sum_num)"
   ]
  },
  {
   "cell_type": "markdown",
   "id": "ac298219",
   "metadata": {},
   "source": [
    "Задание 3\n",
    "Мы делаем MVP dating-сервиса, и у нас есть список парней и девушек.\n",
    "Выдвигаем гипотезу: лучшие рекомендации мы получим, если просто отсортируем имена по алфавиту и познакомим людей с одинаковыми индексами после сортировки! Но мы не будем никого знакомить, если кто-то может остаться без пары:"
   ]
  },
  {
   "cell_type": "code",
   "execution_count": 32,
   "id": "6aed5391",
   "metadata": {},
   "outputs": [
    {
     "name": "stdout",
     "output_type": "stream",
     "text": [
      "Введите список парней через пробел: Peter Alex Jhon Arthur Richard\n",
      "Введите список девушек через пробел: Kate Liza Kira Emma Trisha\n",
      "Идеальные пары:\n",
      "Alex и Emma\n",
      "Arthur и Kate\n",
      "Jhon и Kira\n",
      "Peter и Liza\n",
      "Richard и Trisha\n"
     ]
    }
   ],
   "source": [
    "boys = input(\"Введите список парней через пробел: \")\n",
    "boys_list = boys.split(\" \")\n",
    "girls = input(\"Введите список девушек через пробел: \") \n",
    "girls_list = girls.split(\" \")\n",
    "\n",
    "if len(boys_list) != len(girls_list):\n",
    "    print(\"Внимание, кто-то может остаться без пары!\")\n",
    "else:\n",
    "    boys_list.sort()\n",
    "    girls_list.sort()\n",
    "    print(\"Идеальные пары:\")\n",
    "    for i in range(len(boys_list)):\n",
    "        print(boys_list[i],\"и\",girls_list[i])\n",
    "        \n",
    "        \n"
   ]
  },
  {
   "cell_type": "markdown",
   "id": "e990ede1",
   "metadata": {},
   "source": [
    "Задание 4\n",
    "У нас есть список, содержащий информацию о среднедневной температуре в Фаренгейтах за произвольный период по странам (структура данных в примере). Необходимо написать код, который рассчитает среднюю температуру за период в Цельсиях(!) для каждой страны."
   ]
  },
  {
   "cell_type": "code",
   "execution_count": 56,
   "id": "34b1d280",
   "metadata": {},
   "outputs": [
    {
     "name": "stdout",
     "output_type": "stream",
     "text": [
      "Средняя температура в странах:\n",
      "Таиланд -  23.9 C\n",
      "Германия -  13.8 C\n",
      "Россия -  3.7 C\n",
      "Польша -  12.0 C\n"
     ]
    }
   ],
   "source": [
    "countries_temperature = [\n",
    "    ['Таиланд', [75.2, 77, 78.8, 73.4, 68, 75.2, 77]],\n",
    "    ['Германия', [57.2, 55.4, 59, 59, 53.6]],\n",
    "    ['Россия', [35.6, 37.4, 39.2, 41, 42.8, 39.2, 35.6]],\n",
    "    ['Польша', [50, 50, 53.6, 57.2, 55.4, 55.4]]\n",
    "]\n",
    "print(\"Средняя температура в странах:\")\n",
    "for countre in countries_temperature:\n",
    "    print(countre[0],end =\"\")\n",
    "    average_temp_celsius = ((sum(countre[1])/len(countre[1]) - 32)*5)/9\n",
    "    print(\" - \", round(average_temp_celsius, 1),\"C\")\n",
    "    \n",
    "\n",
    "\n",
    "\n"
   ]
  }
 ],
 "metadata": {
  "kernelspec": {
   "display_name": "Python 3 (ipykernel)",
   "language": "python",
   "name": "python3"
  },
  "language_info": {
   "codemirror_mode": {
    "name": "ipython",
    "version": 3
   },
   "file_extension": ".py",
   "mimetype": "text/x-python",
   "name": "python",
   "nbconvert_exporter": "python",
   "pygments_lexer": "ipython3",
   "version": "3.10.9"
  }
 },
 "nbformat": 4,
 "nbformat_minor": 5
}
