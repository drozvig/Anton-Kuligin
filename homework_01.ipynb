{
 "cells": [
  {
   "cell_type": "markdown",
   "id": "9b3300f8",
   "metadata": {},
   "source": [
    "Задание 1\n",
    "Даны 2 переменных, в которых хранятся строки произвольной длины: phrase_1 и phrase_2.\n",
    "Напишите код, который проверяет какая из этих строк длиннее."
   ]
  },
  {
   "cell_type": "code",
   "execution_count": 2,
   "id": "c460b3a5",
   "metadata": {},
   "outputs": [
    {
     "name": "stdout",
     "output_type": "stream",
     "text": [
      "Введите первую фразу: Привет Витто ! \n",
      "Введите вторую фразу: Как дела ?\n",
      "Первая фраза длиннее чем вторая\n"
     ]
    }
   ],
   "source": [
    "phrase_1 = input(\"Введите первую фразу: \")\n",
    "phrase_2 = input(\"Введите вторую фразу: \")\n",
    "if len(phrase_1)>len(phrase_2):\n",
    "    print(\"Первая фраза длиннее чем вторая\")\n",
    "elif len(phrase_1)<len(phrase_2):\n",
    "    print(\"Вторая фраза длиннее чем первая\")\n",
    "else:\n",
    "    print(\"Фразы равной длины\")\n",
    "    "
   ]
  },
  {
   "cell_type": "markdown",
   "id": "22f0a96a",
   "metadata": {},
   "source": [
    "Задание 2\n",
    "Дана переменная, в которой хранится число (год). Необходимо написать программу, которая выведет, является ли данный год високосным или обычным."
   ]
  },
  {
   "cell_type": "code",
   "execution_count": 4,
   "id": "623ece3b",
   "metadata": {},
   "outputs": [
    {
     "name": "stdout",
     "output_type": "stream",
     "text": [
      "Введите год: 1999\n",
      "Обычный год\n"
     ]
    }
   ],
   "source": [
    "year = int(input(\"Введите год: \"))\n",
    "if year % 4 == 0:\n",
    "    print(\"Високосный год\")\n",
    "else:\n",
    "    print(\"Обычный год\")"
   ]
  },
  {
   "cell_type": "markdown",
   "id": "12929348",
   "metadata": {},
   "source": [
    "Задание 3\n",
    "Необходимо написать программу, которая будет запрашивать у пользователя месяц и дату рождения и выводить соответствующий знак зодиака."
   ]
  },
  {
   "cell_type": "code",
   "execution_count": 7,
   "id": "f52daf43",
   "metadata": {},
   "outputs": [
    {
     "name": "stdout",
     "output_type": "stream",
     "text": [
      "Введите день: 31\n",
      "Введите месяц: Ноябрь\n",
      "Ваш знак зодиака: Стрелец\n"
     ]
    }
   ],
   "source": [
    "num_day = int(input(\"Введите день: \"))\n",
    "month = input(\"Введите месяц: \")\n",
    "\n",
    "if month == \"Март\":\n",
    "    if 1 <= num_day <= 20:\n",
    "        print(\"Ваш знак зодиака: Рыбы\")\n",
    "    else:\n",
    "        print(\"Ваш знак зодиака: Овен\")\n",
    "elif month == \"Апрель\":\n",
    "    if 1 <= num_day <= 20:\n",
    "        print(\"Ваш знак зодиака: Овен\")\n",
    "    else:\n",
    "        print(\"Ваш знак зодиака: Телец\")\n",
    "elif month == \"Май\":\n",
    "    if 1 <= num_day <= 20:\n",
    "        print(\"Ваш знак зодиака: Телец\")\n",
    "    else:\n",
    "        print(\"Ваш знак зодиака: Близнецы\")\n",
    "elif month == \"Июнь\":\n",
    "    if 1 <= num_day <= 21:\n",
    "        print(\"Ваш знак зодиака: Близнецы\")\n",
    "    else:\n",
    "        print(\"Ваш знак зодиака: Рак\")\n",
    "elif month == \"Июль\":\n",
    "    if 1 <= num_day <= 22:\n",
    "        print(\"Ваш знак зодиака: Рак\")\n",
    "    else:\n",
    "        print(\"Ваш знак зодиака: Лев\")\n",
    "elif month == \"Август\":\n",
    "    if 1 <= num_day <= 23:\n",
    "        print(\"Ваш знак зодиака: Лев\")\n",
    "    else:\n",
    "        print(\"Ваш знак зодиака: Дева\")\n",
    "elif month == \"Сентябрь\":\n",
    "    if 1 <= num_day <= 23:\n",
    "        print(\"Ваш знак зодиака: Дева\")\n",
    "    else:\n",
    "        print(\"Ваш знак зодиака: Весы\")\n",
    "elif month == \"Октябрь\":\n",
    "    if 1 <= num_day <= 23:\n",
    "        print(\"Ваш знак зодиака: Весы\")\n",
    "    else:\n",
    "        print(\"Ваш знак зодиака: Скорпион\")\n",
    "elif month == \"Ноябрь\":\n",
    "    if 1 <= num_day <= 22:\n",
    "        print(\"Ваш знак зодиака: Скорпион\")\n",
    "    else:\n",
    "        print(\"Ваш знак зодиака: Стрелец\")\n",
    "elif month == \"Декабрь\":\n",
    "    if 1 <= num_day <= 21:\n",
    "        print(\"Ваш знак зодиака: Стрелец\")\n",
    "    else:\n",
    "        print(\"Ваш знак зодиака: Козерог\")\n",
    "elif month == \"Январь\":\n",
    "    if 1 <= num_day <= 22:\n",
    "        print(\"Ваш знак зодиака: Козерог\")\n",
    "    else:\n",
    "        print(\"Ваш знак зодиака: Водолей\")\n",
    "elif month == \"Февраль\":\n",
    "    if 1 <= num_day <= 18:\n",
    "        print(\"Ваш знак зодиака: Водолей\")\n",
    "    else:\n",
    "        print(\"Ваш знак зодиака: Рыбы\")\n",
    "        \n",
    "        \n"
   ]
  },
  {
   "cell_type": "markdown",
   "id": "aebb5667",
   "metadata": {},
   "source": [
    "Задание 4\n",
    "Вам нужно написать программу для подбора упаковок по размерам товара. Размеры (ширина, длина, высота) хранятся в переменных (в сантиметрах):\n",
    "\n",
    "Используйте следующие правила:\n",
    "\n",
    "если каждое из трех измерений менее или равно 15 сантиметрам, то выведите на экран \"Коробка №1\";\n",
    "если хотя бы одно из измерений больше 2 метров, то выводите \"Упаковка для лыж\";\n",
    "если хотя бы одно из измерений больше 15 сантиметров, но менее 50 сантиметров, то выводите \"Коробка №2\";\n",
    "во всех остальных случаях выводите \"Коробка №3\"."
   ]
  },
  {
   "cell_type": "code",
   "execution_count": 13,
   "id": "5e68bd0b",
   "metadata": {},
   "outputs": [
    {
     "name": "stdout",
     "output_type": "stream",
     "text": [
      "Введите ширину: 16\n",
      "Введите длинну: 8\n",
      "Введите высоту: 8\n",
      "Коробка №2\n"
     ]
    }
   ],
   "source": [
    "width = int(input(\"Введите ширину: \"))\n",
    "length = int(input(\"Введите длинну: \"))\n",
    "height = int(input(\"Введите высоту: \"))\n",
    "\n",
    "if (width <= 15) and (length <= 15) and (height <= 15):\n",
    "    print(\"Коробка №1\")\n",
    "elif (width > 200) or (length > 200) or (height > 200):\n",
    "    print(\"Упаковка для лыж\")\n",
    "elif (15 < width < 50) or (15 < length < 50) or (15 < height < 50):\n",
    "    print(\"Коробка №2\")\n",
    "else:\n",
    "    print(\"Коробка №3\")\n"
   ]
  }
 ],
 "metadata": {
  "kernelspec": {
   "display_name": "Python 3 (ipykernel)",
   "language": "python",
   "name": "python3"
  },
  "language_info": {
   "codemirror_mode": {
    "name": "ipython",
    "version": 3
   },
   "file_extension": ".py",
   "mimetype": "text/x-python",
   "name": "python",
   "nbconvert_exporter": "python",
   "pygments_lexer": "ipython3",
   "version": "3.10.9"
  }
 },
 "nbformat": 4,
 "nbformat_minor": 5
}
