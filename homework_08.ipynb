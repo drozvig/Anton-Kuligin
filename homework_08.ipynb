{
 "cells": [
  {
   "cell_type": "markdown",
   "id": "b94f408c",
   "metadata": {},
   "source": [
    "Домашнее задание к лекции \"Регулярные выражения\"\n",
    "Внимание! При реализации всех заданий необходимо использовать именно функционал регулярных выражений для обработки текста.\n",
    "\n",
    "Задание 1\n",
    "Напишите функцию, которая принимает на вход строку и проверяет является ли она валидным транспортным номером (1 буква, 3 цифры, 2 буквы, 2-3 цифры). Обратите внимание, что не все буквы кириллического алфавита используются в транспортных номерах.\n",
    "\n",
    "Если номер валиден, то функция должна возвращать отдельно номер и регион.\n",
    "\n",
    "Примеры работы программы:\n",
    "\n",
    "car_id = 'A222BC96'\n",
    "Результат: Номер A222BС валиден. Регион: 96\n",
    "\n",
    "car_id = 'АБ22ВВ193'\n",
    "Результат: Номер не валиден"
   ]
  },
  {
   "cell_type": "code",
   "execution_count": 1,
   "id": "7c76ec48",
   "metadata": {},
   "outputs": [],
   "source": [
    "import re\n",
    "def car_number(car_id):\n",
    "    \n",
    "    valid = re.findall(r'([АВЕКМНОРСТУХ]\\d{3}[АВЕКМНОРСТУХ]{2})(\\d{2,3})', car_id)#одна буква 3 цифпы 1 буква 2-3 цифры\n",
    "    if valid:\n",
    "        print('Номер', car_id, 'валиден. Регион:',valid[0][1])\n",
    "    else:\n",
    "        print('Результат: Номер не валиден')"
   ]
  },
  {
   "cell_type": "code",
   "execution_count": 2,
   "id": "42db2782",
   "metadata": {},
   "outputs": [
    {
     "name": "stdout",
     "output_type": "stream",
     "text": [
      "Номер А222ВС96 валиден. Регион: 96\n"
     ]
    }
   ],
   "source": [
    "car_number('А222ВС96')"
   ]
  },
  {
   "cell_type": "code",
   "execution_count": 3,
   "id": "195e4e5c",
   "metadata": {},
   "outputs": [
    {
     "name": "stdout",
     "output_type": "stream",
     "text": [
      "Результат: Номер не валиден\n"
     ]
    }
   ],
   "source": [
    "car_number('Г222ВС96')"
   ]
  },
  {
   "cell_type": "markdown",
   "id": "0a66ccfe",
   "metadata": {},
   "source": [
    "Задание 2\n",
    "\n",
    "Напишите функцию, которая будет удалять все последовательные повторы слов из заданной строки при помощи регулярных выражений.\n",
    "\n",
    "Пример работы программы:\n",
    "\n",
    "some_string = ‘Напишите функцию функцию, которая будет будет будет будет удалять все все все все последовательные повторы слов из из из из заданной строки строки при помощи регулярных выражений’\n",
    "\n",
    "Результат: Напишите функцию, которая будет удалять все последовательные повторы слов из заданной строки при помощи регулярных выражений."
   ]
  },
  {
   "cell_type": "code",
   "execution_count": 4,
   "id": "f08ec13f",
   "metadata": {},
   "outputs": [],
   "source": [
    "string = \"Напишите функцию функцию, которая будет будет будет будет удалять все все все все последовательные повторы слов из из из из заданной строки строки при помощи регулярных выражений\""
   ]
  },
  {
   "cell_type": "code",
   "execution_count": 5,
   "id": "371ae2ce",
   "metadata": {},
   "outputs": [],
   "source": [
    "def remove_repeats(string):\n",
    "   return re.sub(r'(\\w+)(\\s\\1)+', r'\\1', string)"
   ]
  },
  {
   "cell_type": "code",
   "execution_count": 6,
   "id": "050968c3",
   "metadata": {},
   "outputs": [
    {
     "data": {
      "text/plain": [
       "'Напишите функцию, которая будет удалять все последовательные повторы слов из заданной строки при помощи регулярных выражений'"
      ]
     },
     "execution_count": 6,
     "metadata": {},
     "output_type": "execute_result"
    }
   ],
   "source": [
    "remove_repeats(string)"
   ]
  },
  {
   "cell_type": "markdown",
   "id": "7cc699f3",
   "metadata": {},
   "source": [
    "Задание 3\n",
    "Напишите функцию, которая будет возвращать акроним по переданной в нее строке со словами.\n",
    "\n",
    "Примеры работы программы:\n",
    "\n",
    "some_words = 'Информационные технологии'\n",
    "Результат: ИТ\n",
    "\n",
    "some_words = 'Near Field Communication'\n",
    "Результат: NFC"
   ]
  },
  {
   "cell_type": "code",
   "execution_count": 7,
   "id": "0b52082f",
   "metadata": {},
   "outputs": [],
   "source": [
    "def acronym(string):\n",
    "    text = ''\n",
    "    result = re.findall(r'(\\b\\w)', string)\n",
    "    for i in result: #пройдемся по списку соединим его в строку \n",
    "        text += i\n",
    "    print(str.upper(text))# напечатаем текст и выведим его в БОЛЬШИЕ буквы"
   ]
  },
  {
   "cell_type": "code",
   "execution_count": 8,
   "id": "9cbc7373",
   "metadata": {},
   "outputs": [
    {
     "name": "stdout",
     "output_type": "stream",
     "text": [
      "NFC\n"
     ]
    }
   ],
   "source": [
    "acronym('Near Field Communication')"
   ]
  },
  {
   "cell_type": "code",
   "execution_count": 9,
   "id": "ab16f622",
   "metadata": {},
   "outputs": [
    {
     "name": "stdout",
     "output_type": "stream",
     "text": [
      "ЛИБВП\n"
     ]
    }
   ],
   "source": [
    "acronym(\"Лапшак Имени Бойко Виктора Петровича\")"
   ]
  },
  {
   "cell_type": "markdown",
   "id": "4584a0e8",
   "metadata": {},
   "source": [
    "Задание 4\n",
    "Напишите функцию, которая будет принимать на вход список email-адресов и выводить их распределение по доменным зонам.\n",
    "\n",
    "Пример работы программы:\n",
    "\n",
    "emails = ['test@gmail.com', 'xyz@test.in', 'test@ya.ru', 'xyz@mail.ru', 'xyz@ya.ru', 'xyz@gmail.com']\n",
    "\n",
    "Результат:\n",
    "\n",
    "gmail.com: 2\n",
    "test.in: 1 \n",
    "ya.ru: 2 \n",
    "mail.ru: 1"
   ]
  },
  {
   "cell_type": "code",
   "execution_count": 10,
   "id": "ee6286a5",
   "metadata": {},
   "outputs": [],
   "source": [
    "emails = ['test@gmail.com', 'xyz@test.in', 'test@ya.ru', 'xyz@mail.ru', 'xyz@ya.ru', 'xyz@gmail.com']"
   ]
  },
  {
   "cell_type": "code",
   "execution_count": 15,
   "id": "137a3b70",
   "metadata": {},
   "outputs": [],
   "source": [
    "def mail(mails):\n",
    "    my_list=[]\n",
    "    for i in emails:\n",
    "        my_list.extend(re.findall(r'(?<=@)\\w+\\.\\w{2,3}',i))#ищем шаблон после указанной группы потом символы доточкипотом2-3символа\n",
    "    for domen in set(my_list):#делаем множество чтобы убрать повторы\n",
    "        print(domen, my_list.count(domen))"
   ]
  },
  {
   "cell_type": "code",
   "execution_count": 16,
   "id": "61b807e4",
   "metadata": {},
   "outputs": [
    {
     "name": "stdout",
     "output_type": "stream",
     "text": [
      "test.in 1\n",
      "mail.ru 1\n",
      "ya.ru 2\n",
      "gmail.com 2\n"
     ]
    }
   ],
   "source": [
    "mail(emails)"
   ]
  },
  {
   "cell_type": "code",
   "execution_count": null,
   "id": "927e2cd6",
   "metadata": {},
   "outputs": [],
   "source": []
  }
 ],
 "metadata": {
  "kernelspec": {
   "display_name": "Python 3 (ipykernel)",
   "language": "python",
   "name": "python3"
  },
  "language_info": {
   "codemirror_mode": {
    "name": "ipython",
    "version": 3
   },
   "file_extension": ".py",
   "mimetype": "text/x-python",
   "name": "python",
   "nbconvert_exporter": "python",
   "pygments_lexer": "ipython3",
   "version": "3.10.9"
  }
 },
 "nbformat": 4,
 "nbformat_minor": 5
}
