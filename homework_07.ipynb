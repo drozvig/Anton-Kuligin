{
 "cells": [
  {
   "cell_type": "markdown",
   "id": "2f920c3b",
   "metadata": {},
   "source": [
    "Задание 1\n",
    "Напишите функцию, которая возвращает название валюты (поле ‘Name’) с максимальным значением курса с помощью сервиса www.cbr-xml-daily.ru...ly_json.js"
   ]
  },
  {
   "cell_type": "code",
   "execution_count": 42,
   "id": "58f37e5a",
   "metadata": {},
   "outputs": [],
   "source": [
    "import requests\n",
    "\"\"\"XDR\": {                                                                ИСКОМАЯ ВАЛЮТА\n",
    "            \"ID\": \"R01589\",\n",
    "            \"NumCode\": \"960\",\n",
    "            \"CharCode\": \"XDR\",\n",
    "            \"Nominal\": 1,\n",
    "            \"Name\": \"СДР (специальные права заимствования)\",\n",
    "            \"Value\": 112.4312,\n",
    "            \"Previous\": 111.4777\n",
    "        },\"\"\"\n",
    "def max_value():\n",
    "    r = requests.get('https://www.cbr-xml-daily.ru/daily_json.js')\n",
    "    new_dict = r.json()['Valute']\n",
    "    max_elem = 0\n",
    "    name_of_key = \"\"\n",
    "    for elem_key, elem_value in new_dict.items(): #ХОТелось бы комментарии услышать по поводу этого гениального алгоритма поиска\n",
    "        if max_elem < elem_value['Value']:\n",
    "            max_elem = elem_value['Value']\n",
    "            name_of_key = elem_key\n",
    "    print(new_dict[name_of_key]['Name'])\n",
    "\n",
    "    \n",
    "    "
   ]
  },
  {
   "cell_type": "code",
   "execution_count": 43,
   "id": "d802847e",
   "metadata": {},
   "outputs": [
    {
     "name": "stdout",
     "output_type": "stream",
     "text": [
      "СДР (специальные права заимствования)\n"
     ]
    }
   ],
   "source": [
    "max_value()"
   ]
  },
  {
   "cell_type": "markdown",
   "id": "c6d43105",
   "metadata": {},
   "source": [
    "Задание 2 Добавьте в класс Rate параметр diff (со значениями True или False), который в случае значения True в методах курсов валют (eur, usd итд) будет возвращать не курс валюты, а изменение по сравнению в прошлым значением. Считайте, self.diff будет принимать значение True только при возврате значения курса. При отображении всей информации о валюте он не используется."
   ]
  },
  {
   "cell_type": "code",
   "execution_count": 49,
   "id": "2f2186ab",
   "metadata": {},
   "outputs": [],
   "source": [
    "import requests\n",
    "\n",
    "class Rate:\n",
    "    def __init__(self, diff=False, format='value'):\n",
    "        self.format = format\n",
    "        self.diff = diff\n",
    "    \n",
    "    def exchange_rates(self):\n",
    "        \"\"\"\n",
    "        Возвращает ответ сервиса с информацией о валютах в виде:\n",
    "        \n",
    "        {\n",
    "            'AMD': {\n",
    "                'CharCode': 'AMD',\n",
    "                'ID': 'R01060',\n",
    "                'Name': 'Армянских драмов',\n",
    "                'Nominal': 100,\n",
    "                'NumCode': '051',\n",
    "                'Previous': 14.103,\n",
    "                'Value': 14.0879\n",
    "                },\n",
    "            ...\n",
    "        }\n",
    "        \"\"\"\n",
    "        r = requests.get('https://www.cbr-xml-daily.ru/daily_json.js')\n",
    "        return r.json()['Valute']\n",
    "    \n",
    "    def make_format(self, currency):\n",
    "        \"\"\"\n",
    "        Возвращает информацию о валюте currency в двух вариантах:\n",
    "        - полная информация о валюте при self.format = 'full':\n",
    "        Rate('full').make_format('EUR')\n",
    "        {\n",
    "            'CharCode': 'EUR',\n",
    "            'ID': 'R01239',\n",
    "            'Name': 'Евро',\n",
    "            'Nominal': 1,\n",
    "            'NumCode': '978',\n",
    "            'Previous': 79.6765,\n",
    "            'Value': 79.4966\n",
    "        }\n",
    "        \n",
    "        Rate('value').make_format('EUR')\n",
    "        79.4966\n",
    "        \n",
    "        Во втором случае, при указании diff == True \n",
    "        выводится изменение по сравнению в прошлым значением \n",
    "        \"\"\"\n",
    "        response = self.exchange_rates()\n",
    "        \n",
    "        if currency in response:\n",
    "            if self.format == 'full':\n",
    "                return response[currency]\n",
    "            \n",
    "            if self.format == 'value':\n",
    "                if self.diff:                               #ВОТ ТУТ НАЧИНАЕТСЯ ЗАДАЧА ЕСЛИ дифф ТРУ то мы разницу возвращаем\n",
    "                    return response[currency]['Value'] - response[currency]['Previous']\n",
    "                else:    \n",
    "                    return response[currency]['Value']\n",
    "        \n",
    "        return 'Error'\n",
    "    \n",
    "    def eur(self):\n",
    "        \"\"\"Возвращает курс евро на сегодня в формате self.format\"\"\"\n",
    "        return self.make_format('EUR')\n",
    "    \n",
    "    def usd(self):\n",
    "        \"\"\"Возвращает курс доллара на сегодня в формате self.format\"\"\"\n",
    "        return self.make_format('USD')\n",
    "\n",
    "    def AZN(self):\n",
    "        \"\"\"Возвращает курс азербайджанского маната на сегодня в формате self.format\"\"\"\n",
    "        return self.make_format('AZN')"
   ]
  },
  {
   "cell_type": "code",
   "execution_count": 53,
   "id": "3a8db8f3",
   "metadata": {},
   "outputs": [],
   "source": [
    "a = Rate(diff = True)"
   ]
  },
  {
   "cell_type": "code",
   "execution_count": 54,
   "id": "ef551612",
   "metadata": {},
   "outputs": [
    {
     "data": {
      "text/plain": [
       "0.6843999999999966"
      ]
     },
     "execution_count": 54,
     "metadata": {},
     "output_type": "execute_result"
    }
   ],
   "source": [
    "a.usd()\n"
   ]
  },
  {
   "cell_type": "code",
   "execution_count": 55,
   "id": "1e39d08a",
   "metadata": {},
   "outputs": [],
   "source": [
    "b = Rate(format='full',diff=True)"
   ]
  },
  {
   "cell_type": "code",
   "execution_count": 56,
   "id": "637f1baf",
   "metadata": {},
   "outputs": [
    {
     "data": {
      "text/plain": [
       "{'ID': 'R01235',\n",
       " 'NumCode': '840',\n",
       " 'CharCode': 'USD',\n",
       " 'Nominal': 1,\n",
       " 'Name': 'Доллар США',\n",
       " 'Value': 84.3249,\n",
       " 'Previous': 83.6405}"
      ]
     },
     "execution_count": 56,
     "metadata": {},
     "output_type": "execute_result"
    }
   ],
   "source": [
    "b.usd()"
   ]
  },
  {
   "cell_type": "markdown",
   "id": "9127c49a",
   "metadata": {},
   "source": [
    "Задание 3 Напишите класс Designer, который учитывает количество международных премий. Подсказки в коде занятия в разделе “Домашнее задание задача 3”.\n",
    "\n",
    "Комментарий по классу Designer такой: Напишите класс Designer, который учитывает количество международных премий для дизайнеров (из презентации: “Повышение на 1 грейд за каждые 7 баллов. Получение международной премии – это +2 балла”). Считайте, что при выходе на работу сотрудник уже имеет две премии и их количество не меняется со стажем (конечно если хотите это можно вручную менять).\n",
    "\n",
    "Класс Designer пишется по аналогии с классом Developer из материалов занятия. Комментарий про его условия  написан выше: “Повышение на 1 грейд за каждые 7 баллов. Получение международной премии – это +2 балла”"
   ]
  },
  {
   "cell_type": "code",
   "execution_count": 61,
   "id": "8280e58d",
   "metadata": {},
   "outputs": [],
   "source": [
    "class Employee:\n",
    "    def __init__(self, name, seniority):\n",
    "        self.name = name\n",
    "        self.seniority = seniority\n",
    "        \n",
    "        self.grade = 1\n",
    "    \n",
    "    def grade_up(self):\n",
    "        \"\"\"Повышает уровень сотрудника\"\"\"\n",
    "        self.grade += 1\n",
    "    \n",
    "    def publish_grade(self):\n",
    "        \"\"\"Публикация результатов аккредитации сотрудников\"\"\"\n",
    "        print(self.name, self.grade)\n",
    "    "
   ]
  },
  {
   "cell_type": "code",
   "execution_count": 62,
   "id": "615bc7c2",
   "metadata": {},
   "outputs": [],
   "source": [
    "class Designer(Employee):\n",
    "    def __init__(self, name, seniority):\n",
    "        super().__init__(name, seniority)\n",
    "    def check_if_it_is_time_for_upgrade(self):\n",
    "        # для каждой аккредитации увеличиваем счетчик на 1\n",
    "        # пока считаем, что все разработчики проходят аккредитацию\n",
    "        self.seniority += 1\n",
    "        \n",
    "        inetnational_award = 2\n",
    "                \n",
    "        # условие повышения сотрудника из презентации\n",
    "        #Повышение на 1 грейд за каждые 7 баллов. Получение международной премии – это +2 балла\n",
    "        if (self.seniority + 2 * inetnational_award) % 7 == 0:\n",
    "            self.grade_up()\n",
    "        \n",
    "        # публикация результатов\n",
    "        return self.publish_grade()    "
   ]
  },
  {
   "cell_type": "code",
   "execution_count": 63,
   "id": "1482bfce",
   "metadata": {},
   "outputs": [],
   "source": [
    "nikita = Designer('Никита', 0)"
   ]
  },
  {
   "cell_type": "code",
   "execution_count": 64,
   "id": "b6aebb06",
   "metadata": {},
   "outputs": [
    {
     "name": "stdout",
     "output_type": "stream",
     "text": [
      "Никита 1\n",
      "Никита 1\n",
      "Никита 2\n",
      "Никита 2\n",
      "Никита 2\n",
      "Никита 2\n",
      "Никита 2\n",
      "Никита 2\n",
      "Никита 2\n",
      "Никита 3\n"
     ]
    }
   ],
   "source": [
    "for i in range(10):\n",
    "    nikita.check_if_it_is_time_for_upgrade()"
   ]
  },
  {
   "cell_type": "code",
   "execution_count": null,
   "id": "c40e79f8",
   "metadata": {},
   "outputs": [],
   "source": []
  }
 ],
 "metadata": {
  "kernelspec": {
   "display_name": "Python 3 (ipykernel)",
   "language": "python",
   "name": "python3"
  },
  "language_info": {
   "codemirror_mode": {
    "name": "ipython",
    "version": 3
   },
   "file_extension": ".py",
   "mimetype": "text/x-python",
   "name": "python",
   "nbconvert_exporter": "python",
   "pygments_lexer": "ipython3",
   "version": "3.10.9"
  }
 },
 "nbformat": 4,
 "nbformat_minor": 5
}
