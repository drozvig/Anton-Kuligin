{
 "cells": [
  {
   "cell_type": "markdown",
   "id": "287e486f",
   "metadata": {},
   "source": [
    "Домашнее задание\n",
    "1\n",
    "Переведите содержимое файла purchase_log.txt в словарь purchases вида:\n",
    "{'1840e0b9d4': 'Продукты', ...}\n",
    "2\n",
    "Для каждого user_id в файле visit_log.csv определите третий столбец с категорией покупки (если покупка была, сам файл visit_log.csv изменять не надо). Запишите в файл funnel.csv визиты из файла visit_log.csv, в которых были покупки с указанием категории.\n",
    "Учтите условия на данные:\n",
    "\n",
    "содержимое purchase_log.txt помещается в оперативную память компьютера\n",
    "содержимое visit_log.csv - нет; используйте только построчную обработку этого файла"
   ]
  },
  {
   "cell_type": "code",
   "execution_count": 3,
   "id": "5936c3c5",
   "metadata": {},
   "outputs": [],
   "source": [
    "import json\n",
    "purchases = {}\n",
    "with open('purchase_log.txt', encoding='utf-8') as file:\n",
    "    for line in file:\n",
    "        line = line.strip() \n",
    "        my_dict = json.loads(line)\n",
    "        purchases.update({my_dict.values()})"
   ]
  },
  {
   "cell_type": "code",
   "execution_count": 4,
   "id": "03a84f3c",
   "metadata": {},
   "outputs": [
    {
     "name": "stdout",
     "output_type": "stream",
     "text": [
      "user_id category\n",
      "1840e0b9d4 Продукты\n",
      "4e4f90fcfb Электроника\n",
      "afea8d72fc Электроника\n",
      "373a6055fe Бытовая техника\n",
      "9b2ab046f3 Электроника\n"
     ]
    }
   ],
   "source": [
    "i = 0\n",
    "for a, b in purchases.items():\n",
    "    print(a,b)\n",
    "    i += 1\n",
    "    if i > 5:\n",
    "        break"
   ]
  },
  {
   "cell_type": "markdown",
   "id": "97e755f7",
   "metadata": {},
   "source": [
    "Задание 2\n"
   ]
  },
  {
   "cell_type": "code",
   "execution_count": 5,
   "id": "24d447e4",
   "metadata": {},
   "outputs": [],
   "source": [
    "pur_dict = {}\n",
    "\n",
    "with open('Visit_log.csv') as log:\n",
    "    with open('funnel.csv', 'w', encoding='utf-8') as out:\n",
    "        purchase = open('purchase_log.txt', encoding='utf-8').readlines() #пропускаем первую строчку\n",
    "        for element in purchase:\n",
    "            my_dict = json.loads(element)    #делаем словарь по строчкам\n",
    "            pur_dict.update({my_dict.values()}) #добовляем значения в новый словарь\n",
    "        for line in log: #проходимся по файлу Визит_Лог\n",
    "            line = line.strip().split(',') # Убираем всякий мусор\n",
    "            if line[0] in pur_dict.keys(): # Если ключи совпадают  \n",
    "                out.write(line[0] + ',' + line[1] + ',' + str(pur_dict.get(line[0])) + '\\n')# Записываем в новый файл "
   ]
  },
  {
   "cell_type": "code",
   "execution_count": null,
   "id": "114c7479",
   "metadata": {},
   "outputs": [],
   "source": []
  }
 ],
 "metadata": {
  "kernelspec": {
   "display_name": "Python 3 (ipykernel)",
   "language": "python",
   "name": "python3"
  },
  "language_info": {
   "codemirror_mode": {
    "name": "ipython",
    "version": 3
   },
   "file_extension": ".py",
   "mimetype": "text/x-python",
   "name": "python",
   "nbconvert_exporter": "python",
   "pygments_lexer": "ipython3",
   "version": "3.10.9"
  }
 },
 "nbformat": 4,
 "nbformat_minor": 5
}
